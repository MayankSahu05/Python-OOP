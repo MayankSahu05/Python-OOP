{
 "cells": [
  {
   "cell_type": "markdown",
   "id": "b7569c66",
   "metadata": {},
   "source": [
    "**Q: What is Object-Oriented Programming (OOP)**\n",
    "\n",
    "A: OOP is a programming paradigm that organizes code into objects containing data and methods."
   ]
  },
  {
   "cell_type": "markdown",
   "id": "a05de7b2",
   "metadata": {},
   "source": [
    "**Q: What is a class in OOP**\n",
    "\n",
    "A: A class is a blueprint for creating objects, defining attributes and methods."
   ]
  },
  {
   "cell_type": "markdown",
   "id": "33a75bf2",
   "metadata": {},
   "source": [
    "**Q: What is an object in OOP**\n",
    "\n",
    "A: An object is an instance of a class containing real values for attributes."
   ]
  },
  {
   "cell_type": "markdown",
   "id": "e8eb47f6",
   "metadata": {},
   "source": [
    "**Q: What is the difference between abstraction and encapsulation**\n",
    "\n",
    "A: Abstraction hides implementation details; encapsulation restricts direct access to data."
   ]
  },
  {
   "cell_type": "markdown",
   "id": "1d71ae66",
   "metadata": {},
   "source": [
    "**Q: What are dunder methods in Python**\n",
    "\n",
    "A: Special methods with double underscores like __init__, __str__, used to define object behavior."
   ]
  },
  {
   "cell_type": "markdown",
   "id": "80f0e58a",
   "metadata": {},
   "source": [
    "**Q: Explain the concept of inheritance in OOP**\n",
    "\n",
    "A: Inheritance allows one class to derive attributes and methods from another class."
   ]
  },
  {
   "cell_type": "markdown",
   "id": "4e62a2ce",
   "metadata": {},
   "source": [
    "**Q: What is polymorphism in OOP**\n",
    "\n",
    "A: Polymorphism allows the same interface to be used for different underlying forms (objects)."
   ]
  },
  {
   "cell_type": "markdown",
   "id": "c839e6ad",
   "metadata": {},
   "source": [
    "**Q: How is encapsulation achieved in Python**\n",
    "\n",
    "A: By making attributes private with __ and providing getter/setter methods."
   ]
  },
  {
   "cell_type": "markdown",
   "id": "b017c8c3",
   "metadata": {},
   "source": [
    "**Q: What is a constructor in Python**\n",
    "\n",
    "A: __init__ is the constructor method, initializing attributes when creating an object."
   ]
  },
  {
   "cell_type": "markdown",
   "id": "f3dece9c",
   "metadata": {},
   "source": [
    "**Q: What are class and static methods in Python**\n",
    "\n",
    "A: Class methods use @classmethod and take cls; static methods use @staticmethod and take no cls/self."
   ]
  },
  {
   "cell_type": "markdown",
   "id": "38310a97",
   "metadata": {},
   "source": [
    "**Q: What is method overloading in Python**\n",
    "\n",
    "A: Python does not support true method overloading; it can be done using default arguments or *args."
   ]
  },
  {
   "cell_type": "markdown",
   "id": "c8de6250",
   "metadata": {},
   "source": [
    "**Q: What is method overriding in OOP**\n",
    "\n",
    "A: When a subclass provides its own implementation of a method from its superclass."
   ]
  },
  {
   "cell_type": "markdown",
   "id": "e2ee8a36",
   "metadata": {},
   "source": [
    "**Q: What is a property decorator in Python**\n",
    "\n",
    "A: @property allows a method to be accessed like an attribute."
   ]
  },
  {
   "cell_type": "markdown",
   "id": "62383758",
   "metadata": {},
   "source": [
    "**Q: Why is polymorphism important in OOP**\n",
    "\n",
    "A: It improves flexibility and code reusability by allowing different object types to be handled uniformly."
   ]
  },
  {
   "cell_type": "markdown",
   "id": "2f8ebeca",
   "metadata": {},
   "source": [
    "**Q: What is an abstract class in Python**\n",
    "\n",
    "A: A class that cannot be instantiated and contains abstract methods defined with @abstractmethod."
   ]
  },
  {
   "cell_type": "markdown",
   "id": "d5b2c93e",
   "metadata": {},
   "source": [
    "**Q: What are the advantages of OOP**\n",
    "\n",
    "A: Reusability, modularity, scalability, encapsulation, and easy maintenance."
   ]
  },
  {
   "cell_type": "markdown",
   "id": "b6d59654",
   "metadata": {},
   "source": [
    "**Q: What is the difference between a class variable and an instance variable**\n",
    "\n",
    "A: Class variables are shared by all instances; instance variables are unique to each object."
   ]
  },
  {
   "cell_type": "markdown",
   "id": "372f77c9",
   "metadata": {},
   "source": [
    "**Q: What is multiple inheritance in Python**\n",
    "\n",
    "A: When a class inherits from more than one base class."
   ]
  },
  {
   "cell_type": "markdown",
   "id": "472f21d9",
   "metadata": {},
   "source": [
    "**Q: Explain the purpose of '__str__' and '__repr__' methods in Python**\n",
    "\n",
    "A: __str__ returns a user-friendly string; __repr__ returns a developer/debug string."
   ]
  },
  {
   "cell_type": "markdown",
   "id": "bad3c51d",
   "metadata": {},
   "source": [
    "**Q: What is the significance of the 'super()' function in Python**\n",
    "\n",
    "A: super() is used to call a method from the parent class."
   ]
  },
  {
   "cell_type": "markdown",
   "id": "681e1068",
   "metadata": {},
   "source": [
    "**Q: What is the significance of the __del__ method in Python**\n",
    "\n",
    "A: __del__ is the destructor method called when an object is deleted."
   ]
  },
  {
   "cell_type": "markdown",
   "id": "29318eb2",
   "metadata": {},
   "source": [
    "**Q: What is the difference between @staticmethod and @classmethod in Python**\n",
    "\n",
    "A: @staticmethod has no cls/self; @classmethod has cls parameter."
   ]
  },
  {
   "cell_type": "markdown",
   "id": "18b0ad58",
   "metadata": {},
   "source": [
    "**Q: How does polymorphism work in Python with inheritance**\n",
    "\n",
    "A: Through method overriding where child classes redefine parent methods."
   ]
  },
  {
   "cell_type": "markdown",
   "id": "5179208b",
   "metadata": {},
   "source": [
    "**Q: What is method chaining in Python OOP**\n",
    "\n",
    "A: Returning self from methods so multiple calls can be chained in one statement."
   ]
  },
  {
   "cell_type": "markdown",
   "id": "692d5b10",
   "metadata": {},
   "source": [
    "**Q: What is the purpose of the __call__ method in Python?**\n",
    "\n",
    "A: __call__ makes an object callable like a function."
   ]
  },
  {
   "cell_type": "markdown",
   "id": "7ceb5293",
   "metadata": {},
   "source": [
    "**Q: Create a parent class Animal with a method speak() that prints a generic message. Create a child class Dog that overrides the speak() method to print 'Bark!'.**"
   ]
  },
  {
   "cell_type": "code",
   "execution_count": null,
   "id": "2e90b491",
   "metadata": {},
   "outputs": [],
   "source": [
    "class Animal:\n",
    "    def speak(self):\n",
    "        print(\"Generic animal sound\")\n",
    "\n",
    "class Dog(Animal):\n",
    "    def speak(self):\n",
    "        print(\"Bark!\")\n",
    "\n",
    "Dog().speak()"
   ]
  },
  {
   "cell_type": "markdown",
   "id": "76151cb1",
   "metadata": {},
   "source": [
    "**Q: Write a program to create an abstract class Shape with a method area(). Derive classes Circle and Rectangle from it and implement the area() method in both.**"
   ]
  },
  {
   "cell_type": "code",
   "execution_count": null,
   "id": "5a3cebf3",
   "metadata": {},
   "outputs": [],
   "source": [
    "from abc import ABC, abstractmethod\n",
    "\n",
    "class Shape(ABC):\n",
    "    @abstractmethod\n",
    "    def area(self):\n",
    "        pass\n",
    "\n",
    "class Circle(Shape):\n",
    "    def __init__(self, radius):\n",
    "        self.radius = radius\n",
    "    def area(self):\n",
    "        return 3.14 * self.radius ** 2\n",
    "\n",
    "class Rectangle(Shape):\n",
    "    def __init__(self, width, height):\n",
    "        self.width = width\n",
    "        self.height = height\n",
    "    def area(self):\n",
    "        return self.width * self.height\n",
    "\n",
    "print(Circle(5).area())\n",
    "print(Rectangle(4, 6).area())"
   ]
  },
  {
   "cell_type": "markdown",
   "id": "9fa66280",
   "metadata": {},
   "source": [
    "**Q: Implement a multi-level inheritance scenario where a class Vehicle has an attribute type. Derive a class Car and further derive a class ElectricCar that adds a battery attribute.**"
   ]
  },
  {
   "cell_type": "code",
   "execution_count": null,
   "id": "071b7cb1",
   "metadata": {},
   "outputs": [],
   "source": [
    "class Vehicle:\n",
    "    def __init__(self, type):\n",
    "        self.type = type\n",
    "\n",
    "class Car(Vehicle):\n",
    "    def __init__(self, type, brand):\n",
    "        super().__init__(type)\n",
    "        self.brand = brand\n",
    "\n",
    "class ElectricCar(Car):\n",
    "    def __init__(self, type, brand, battery):\n",
    "        super().__init__(type, brand)\n",
    "        self.battery = battery\n",
    "\n",
    "ec = ElectricCar(\"Four Wheeler\", \"Tesla\", \"100kWh\")\n",
    "print(ec.type, ec.brand, ec.battery)"
   ]
  }
 ],
 "metadata": {},
 "nbformat": 4,
 "nbformat_minor": 5
}
